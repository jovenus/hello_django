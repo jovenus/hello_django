{
 "cells": [
  {
   "cell_type": "code",
   "execution_count": 4,
   "metadata": {},
   "outputs": [],
   "source": [
    "import requests\n",
    "from io import BytesIO\n",
    "from PIL import Image, ImageDraw, ImageFont\n",
    "\n",
    "ttf_path = 'C:/Windows/Fonts/malgun.ttf' # 윈도우, 맥: \n",
    "# ttf_path = '/Library/Fonts/AppleGothic.ttf'\n",
    "\n",
    "image_url = 'http://www.flowermeaning.com/flower-pics/Calla-Lily-Meaning.jpg'\n",
    "res = requests.get(image_url) # 서버로 HTTP GET 요청하여, 응답 획득\n",
    "\n",
    "io = BytesIO(res.content) # 응답의 Raw Body  메모리 파일 객체 BytesIO 인스턴스 생성\n",
    "io.seek(0) # 파일의 처음으로 커서를 이동\n",
    "canvas = Image.open(io).convert('RGBA') # 이미지 파일을 열고, RGBA 모드로 변환\n",
    "font = ImageFont.truetype(ttf_path, 40) # 지정 경로의 TrueType 폰트, 폰트크기 40\n",
    "draw = ImageDraw.Draw(canvas) # canvas에 대한 ImageDraw 객체 획득\n",
    "                                \n",
    "text = '이진석 (사번: 201900001)'\n",
    "left, top = 10, 10\n",
    "margin = 10\n",
    "width, height = font.getsize(text)\n",
    "right = left + width + margin\n",
    "bottom = top + height + margin\n",
    "\n",
    "draw.rectangle((left, top, right, bottom), (255, 255, 224))\n",
    "draw.text((15,15), text, font=font, fill=(20, 20, 20))\n",
    "\n",
    "canvas.show()\n",
    " "
   ]
  },
  {
   "cell_type": "code",
   "execution_count": null,
   "metadata": {},
   "outputs": [],
   "source": []
  }
 ],
 "metadata": {
  "kernelspec": {
   "display_name": "Python 3",
   "language": "python",
   "name": "python3"
  },
  "language_info": {
   "codemirror_mode": {
    "name": "ipython",
    "version": 3
   },
   "file_extension": ".py",
   "mimetype": "text/x-python",
   "name": "python",
   "nbconvert_exporter": "python",
   "pygments_lexer": "ipython3",
   "version": "3.7.1"
  }
 },
 "nbformat": 4,
 "nbformat_minor": 2
}
